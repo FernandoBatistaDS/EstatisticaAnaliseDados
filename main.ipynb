{
 "cells": [
  {
   "cell_type": "markdown",
   "metadata": {},
   "source": [
    "# 0.0 Imports & Functions"
   ]
  },
  {
   "cell_type": "code",
   "execution_count": 31,
   "metadata": {},
   "outputs": [],
   "source": [
    "import sqlite3\n",
    "import pandas.io.sql as psql"
   ]
  },
  {
   "cell_type": "code",
   "execution_count": 32,
   "metadata": {},
   "outputs": [],
   "source": [
    "# Function to connect to the database.\n",
    "def connect_db(base = 'db_olist.sqlite'):\n",
    "    # To connect to the SQLite database (the file will be created if it doesn't exist)\n",
    "    return sqlite3.connect(base)\n",
    "\n",
    "def execute_query_db(query, cursor):\n",
    "    # Drop the temporary table if it exists.\n",
    "    cursor.execute(query)\n"
   ]
  },
  {
   "cell_type": "markdown",
   "metadata": {},
   "source": [
    "## 0.1 Database connection and execution of auxiliary queries."
   ]
  },
  {
   "cell_type": "code",
   "execution_count": 33,
   "metadata": {},
   "outputs": [],
   "source": [
    "# Connet to database\n",
    "conn = connect_db();\n",
    "\n",
    "# Create a cursor\n",
    "cursor = conn.cursor();\n",
    "\n",
    "# Execute DROP TABLE\n",
    "execute_query_db(\"DROP TABLE IF EXISTS geolocation_temporary;\", cursor);\n",
    "\n",
    "# Execute Creation of the temporary table.\n",
    "execute_query_db(\"\"\"\n",
    "    CREATE TEMPORARY TABLE geolocation_temporary (\n",
    "        geolocation_zip_code_prefix INTEGER,\n",
    "        count INTEGER,\n",
    "        min_lat REAL,\n",
    "        media_lat REAL,\n",
    "        max_lat REAL,\n",
    "        random_num REAL,\n",
    "        min_lng REAL,\n",
    "        media_lng REAL,\n",
    "        max_lng REAL\n",
    "    );\n",
    "\"\"\", cursor);\n",
    "\n",
    "# Insertion of data into the temporary table\n",
    "execute_query_db(\"\"\"\n",
    "    INSERT INTO geolocation_temporary\n",
    "    SELECT\n",
    "        geolocation_zip_code_prefix,\n",
    "        COUNT(geolocation_zip_code_prefix),\n",
    "        MIN(geolocation_lat) AS min_lat,\n",
    "        AVG(geolocation_lat) AS media_lat,\n",
    "        MAX(geolocation_lat) AS max_lat,\n",
    "        ABS(RANDOM())/10000000000000000000 AS random_num,\n",
    "        MIN(geolocation_lng) AS min_lng,\n",
    "        AVG(geolocation_lng) AS media_lng,\n",
    "        MAX(geolocation_lng) AS max_lng\n",
    "    FROM geolocation\n",
    "    GROUP BY geolocation_zip_code_prefix\n",
    "    ORDER BY geolocation_zip_code_prefix;\n",
    "\"\"\", cursor);"
   ]
  },
  {
   "cell_type": "markdown",
   "metadata": {},
   "source": [
    "## 0.2 Main query"
   ]
  },
  {
   "cell_type": "code",
   "execution_count": 34,
   "metadata": {},
   "outputs": [],
   "source": [
    "# Main query\n",
    "query = \"\"\"\n",
    "    SELECT\n",
    "        ROW_NUMBER() OVER () AS row_number,\n",
    "        ABS(RANDOM())/10000000000000000000 AS random_num ,\n",
    "        o.order_id ,\n",
    "        o.customer_id ,\n",
    "        o.order_status ,\n",
    "        o.order_approved_at  ,\n",
    "        o.order_delivered_customer_date  ,\n",
    "        o.order_estimated_delivery_date ,\n",
    "        oi.product_id ,\n",
    "        oi.seller_id ,\n",
    "        c.customer_zip_code_prefix ,\n",
    "        s.seller_zip_code_prefix ,\n",
    "        gc.media_lat AS MEDIA_LAT_CUSTOMER,\n",
    "        gc.media_lng AS MEDIA_LNG_CUSTOMER,\n",
    "        gs.media_lat AS MEDIA_LAT_SELLER,\n",
    "        gs.media_lng AS MEDIA_LNG_SELLER,\n",
    "        SQRT(POW(gc.media_lat - gs.media_lat, 2) + POW(gc.media_lng - gs.media_lng, 2)) AS dist_degrees,\n",
    "        p.product_weight_g ,\n",
    "        (p.product_length_cm * p.product_height_cm * p.product_width_cm) AS product_volume_cm2 ,\n",
    "        p.product_category_name,\n",
    "        julianday(o.order_delivered_customer_date) - julianday(o.order_approved_at) AS delta_time_real,\n",
    "        julianday(o.order_estimated_delivery_date) - julianday(o.order_approved_at) AS delta_time_dataset,\n",
    "        julianday(o.order_estimated_delivery_date) - julianday(o.order_delivered_customer_date) AS error_model_dataset\n",
    "    FROM orders o \n",
    "    INNER JOIN order_items oi ON o.order_id = oi.order_id\n",
    "    INNER JOIN customer c ON c.customer_id = o.customer_id \n",
    "    INNER JOIN sellers s ON oi.seller_id = s.seller_id \n",
    "    INNER JOIN geolocation_temporary gc ON gc.geolocation_zip_code_prefix = c.customer_zip_code_prefix\n",
    "    INNER JOIN geolocation_temporary gs ON gs.geolocation_zip_code_prefix = s.seller_zip_code_prefix\n",
    "    INNER JOIN products p ON p.product_id = oi.product_id\n",
    "    WHERE 1=1\n",
    "    AND o.order_status = 'delivered'\n",
    "    AND o.order_approved_at is NOT NULL\n",
    "    AND o.order_delivered_customer_date is not null\n",
    "    AND o.order_estimated_delivery_date  is not null\n",
    "    AND gs.media_lat is not null\n",
    "    AND gs.media_lng is not null\n",
    "    AND gc.media_lat is not null\n",
    "    AND gc.media_lng is not null\n",
    "    AND p.product_category_name IS NOT NULL\n",
    "    AND p.product_weight_g <> 0\n",
    "    AND delta_time_real > 0;\n",
    "\n",
    "\"\"\"\n",
    "# Return selection in dataframe format\n",
    "df = psql.read_sql( query, conn )\n",
    "\n",
    "# Close cursor and connect\n",
    "cursor.close()\n",
    "conn.close()"
   ]
  },
  {
   "cell_type": "code",
   "execution_count": null,
   "metadata": {},
   "outputs": [],
   "source": []
  }
 ],
 "metadata": {
  "kernelspec": {
   "display_name": ".venv",
   "language": "python",
   "name": "python3"
  },
  "language_info": {
   "codemirror_mode": {
    "name": "ipython",
    "version": 3
   },
   "file_extension": ".py",
   "mimetype": "text/x-python",
   "name": "python",
   "nbconvert_exporter": "python",
   "pygments_lexer": "ipython3",
   "version": "3.11.7"
  }
 },
 "nbformat": 4,
 "nbformat_minor": 2
}
